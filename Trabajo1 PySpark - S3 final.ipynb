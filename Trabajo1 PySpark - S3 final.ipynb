{
 "cells": [
  {
   "cell_type": "code",
   "execution_count": 1,
   "metadata": {
    "scrolled": true
   },
   "outputs": [
    {
     "name": "stdout",
     "output_type": "stream",
     "text": [
      "Starting Spark application\n"
     ]
    },
    {
     "data": {
      "text/html": [
       "<table>\n",
       "<tr><th>ID</th><th>YARN Application ID</th><th>Kind</th><th>State</th><th>Spark UI</th><th>Driver log</th><th>Current session?</th></tr><tr><td>2</td><td>application_1646691297450_0004</td><td>pyspark</td><td>idle</td><td><a target=\"_blank\" href=\"http://ip-172-31-31-240.ec2.internal:20888/proxy/application_1646691297450_0004/\">Link</a></td><td><a target=\"_blank\" href=\"http://ip-172-31-28-66.ec2.internal:8042/node/containerlogs/container_1646691297450_0004_01_000001/livy\">Link</a></td><td>✔</td></tr></table>"
      ],
      "text/plain": [
       "<IPython.core.display.HTML object>"
      ]
     },
     "metadata": {},
     "output_type": "display_data"
    },
    {
     "data": {
      "application/vnd.jupyter.widget-view+json": {
       "model_id": "",
       "version_major": 2,
       "version_minor": 0
      },
      "text/plain": [
       "FloatProgress(value=0.0, bar_style='info', description='Progress:', layout=Layout(height='25px', width='50%'),…"
      ]
     },
     "metadata": {},
     "output_type": "display_data"
    },
    {
     "name": "stdout",
     "output_type": "stream",
     "text": [
      "SparkSession available as 'spark'.\n"
     ]
    },
    {
     "data": {
      "application/vnd.jupyter.widget-view+json": {
       "model_id": "",
       "version_major": 2,
       "version_minor": 0
      },
      "text/plain": [
       "FloatProgress(value=0.0, bar_style='info', description='Progress:', layout=Layout(height='25px', width='50%'),…"
      ]
     },
     "metadata": {},
     "output_type": "display_data"
    }
   ],
   "source": [
    "spark\n",
    "sc\n",
    "from pyspark.sql import functions as sf"
   ]
  },
  {
   "cell_type": "code",
   "execution_count": 2,
   "metadata": {},
   "outputs": [
    {
     "data": {
      "application/vnd.jupyter.widget-view+json": {
       "model_id": "",
       "version_major": 2,
       "version_minor": 0
      },
      "text/plain": [
       "FloatProgress(value=0.0, bar_style='info', description='Progress:', layout=Layout(height='25px', width='50%'),…"
      ]
     },
     "metadata": {},
     "output_type": "display_data"
    }
   ],
   "source": [
    "# Ejemeplo df=spark.read.csv('s3n://emontoya-datalake/datasets/sample_data.csv',inferSchema=True,header=True)\n",
    "#Leer los datos desde s3\n",
    "#df=spark.read.csv('s3://ojcontrerb-datasets/raw/Trabajo1_ST1800&ST18001/ds3_GlobalLandTemperaturesByCity/GlobalLandTemperaturesByCity.csv',inferSchema=True,header=True)\n",
    "df=spark.read.csv('s3://ojcontrerb-datasets/Trabajo1/raw/global-land-temperatures/',inferSchema=True,header=True)"
   ]
  },
  {
   "cell_type": "code",
   "execution_count": 3,
   "metadata": {},
   "outputs": [
    {
     "data": {
      "application/vnd.jupyter.widget-view+json": {
       "model_id": "",
       "version_major": 2,
       "version_minor": 0
      },
      "text/plain": [
       "FloatProgress(value=0.0, bar_style='info', description='Progress:', layout=Layout(height='25px', width='50%'),…"
      ]
     },
     "metadata": {},
     "output_type": "display_data"
    },
    {
     "name": "stdout",
     "output_type": "stream",
     "text": [
      "root\n",
      " |-- dt: string (nullable = true)\n",
      " |-- AverageTemperature: double (nullable = true)\n",
      " |-- AverageTemperatureUncertainty: double (nullable = true)\n",
      " |-- City: string (nullable = true)\n",
      " |-- Country: string (nullable = true)\n",
      " |-- Latitude: string (nullable = true)\n",
      " |-- Longitude: string (nullable = true)"
     ]
    }
   ],
   "source": [
    "# Mostrar el esquema del Dataframe\n",
    "df.printSchema()"
   ]
  },
  {
   "cell_type": "code",
   "execution_count": 4,
   "metadata": {},
   "outputs": [
    {
     "data": {
      "application/vnd.jupyter.widget-view+json": {
       "model_id": "",
       "version_major": 2,
       "version_minor": 0
      },
      "text/plain": [
       "FloatProgress(value=0.0, bar_style='info', description='Progress:', layout=Layout(height='25px', width='50%'),…"
      ]
     },
     "metadata": {},
     "output_type": "display_data"
    },
    {
     "name": "stdout",
     "output_type": "stream",
     "text": [
      "(8599212, 7)"
     ]
    }
   ],
   "source": [
    "# Mostrar las dimensiones del dataframe\n",
    "((df.count(),len(df.columns)))\n"
   ]
  },
  {
   "cell_type": "code",
   "execution_count": 5,
   "metadata": {},
   "outputs": [
    {
     "data": {
      "application/vnd.jupyter.widget-view+json": {
       "model_id": "",
       "version_major": 2,
       "version_minor": 0
      },
      "text/plain": [
       "FloatProgress(value=0.0, bar_style='info', description='Progress:', layout=Layout(height='25px', width='50%'),…"
      ]
     },
     "metadata": {},
     "output_type": "display_data"
    },
    {
     "name": "stdout",
     "output_type": "stream",
     "text": [
      "+-------+----------+------------------+-----------------------------+--------+-----------+--------+---------+\n",
      "|summary|        dt|AverageTemperature|AverageTemperatureUncertainty|    City|    Country|Latitude|Longitude|\n",
      "+-------+----------+------------------+-----------------------------+--------+-----------+--------+---------+\n",
      "|  count|   8599212|           8235082|                      8235082| 8599212|    8599212| 8599212|  8599212|\n",
      "|   mean|      null|16.727432636250835|           1.0285747414536532|    null|       null|    null|     null|\n",
      "| stddev|      null|10.353442482534422|           1.1297332887133706|    null|       null|    null|     null|\n",
      "|    min|1743-11-01|-42.70399999999999|                        0.034|A Coruña|Afghanistan|   0.80N|    0.00W|\n",
      "|    max|2013-09-01|            39.651|           15.395999999999999|  Ürümqi|   Zimbabwe|   8.84S|   99.91E|\n",
      "+-------+----------+------------------+-----------------------------+--------+-----------+--------+---------+"
     ]
    }
   ],
   "source": [
    "# Mostrar la información del dataframe\n",
    "df.describe().show()"
   ]
  },
  {
   "cell_type": "code",
   "execution_count": 6,
   "metadata": {},
   "outputs": [
    {
     "data": {
      "application/vnd.jupyter.widget-view+json": {
       "model_id": "",
       "version_major": 2,
       "version_minor": 0
      },
      "text/plain": [
       "FloatProgress(value=0.0, bar_style='info', description='Progress:', layout=Layout(height='25px', width='50%'),…"
      ]
     },
     "metadata": {},
     "output_type": "display_data"
    },
    {
     "name": "stdout",
     "output_type": "stream",
     "text": [
      "+----------+-------------------+-----------------------------+-----+-------+--------+---------+--------------------+\n",
      "|        dt| AverageTemperature|AverageTemperatureUncertainty| City|Country|Latitude|Longitude|GeographicCoordinate|\n",
      "+----------+-------------------+-----------------------------+-----+-------+--------+---------+--------------------+\n",
      "|1743-11-01|              6.068|           1.7369999999999999|Århus|Denmark|  57.05N|   10.33E|       57.05N 10.33E|\n",
      "|1743-12-01|               null|                         null|Århus|Denmark|  57.05N|   10.33E|       57.05N 10.33E|\n",
      "|1744-01-01|               null|                         null|Århus|Denmark|  57.05N|   10.33E|       57.05N 10.33E|\n",
      "|1744-02-01|               null|                         null|Århus|Denmark|  57.05N|   10.33E|       57.05N 10.33E|\n",
      "|1744-03-01|               null|                         null|Århus|Denmark|  57.05N|   10.33E|       57.05N 10.33E|\n",
      "|1744-04-01| 5.7879999999999985|           3.6239999999999997|Århus|Denmark|  57.05N|   10.33E|       57.05N 10.33E|\n",
      "|1744-05-01|             10.644|           1.2830000000000001|Århus|Denmark|  57.05N|   10.33E|       57.05N 10.33E|\n",
      "|1744-06-01| 14.050999999999998|                        1.347|Århus|Denmark|  57.05N|   10.33E|       57.05N 10.33E|\n",
      "|1744-07-01|             16.082|                        1.396|Århus|Denmark|  57.05N|   10.33E|       57.05N 10.33E|\n",
      "|1744-08-01|               null|                         null|Århus|Denmark|  57.05N|   10.33E|       57.05N 10.33E|\n",
      "|1744-09-01| 12.780999999999999|                        1.454|Århus|Denmark|  57.05N|   10.33E|       57.05N 10.33E|\n",
      "|1744-10-01|               7.95|                         1.63|Århus|Denmark|  57.05N|   10.33E|       57.05N 10.33E|\n",
      "|1744-11-01|  4.638999999999999|           1.3019999999999998|Århus|Denmark|  57.05N|   10.33E|       57.05N 10.33E|\n",
      "|1744-12-01|0.12199999999999987|                        1.756|Århus|Denmark|  57.05N|   10.33E|       57.05N 10.33E|\n",
      "|1745-01-01|-1.3330000000000002|                        1.642|Århus|Denmark|  57.05N|   10.33E|       57.05N 10.33E|\n",
      "|1745-02-01|             -2.732|                        1.358|Århus|Denmark|  57.05N|   10.33E|       57.05N 10.33E|\n",
      "|1745-03-01|              0.129|                        1.088|Århus|Denmark|  57.05N|   10.33E|       57.05N 10.33E|\n",
      "|1745-04-01|              4.042|                        1.138|Århus|Denmark|  57.05N|   10.33E|       57.05N 10.33E|\n",
      "|1745-05-01|               null|                         null|Århus|Denmark|  57.05N|   10.33E|       57.05N 10.33E|\n",
      "|1745-06-01|               null|                         null|Århus|Denmark|  57.05N|   10.33E|       57.05N 10.33E|\n",
      "+----------+-------------------+-----------------------------+-----+-------+--------+---------+--------------------+\n",
      "only showing top 20 rows"
     ]
    }
   ],
   "source": [
    "# Agregamos una nueva columna con la Coordenada Geografica\"\n",
    "df2 = df.withColumn(\"GeographicCoordinate\",sf.concat(sf.col(\"Latitude\"),sf.lit(\" \"),sf.col(\"Longitude\"))) \n",
    "df2.show()"
   ]
  },
  {
   "cell_type": "code",
   "execution_count": 7,
   "metadata": {},
   "outputs": [
    {
     "data": {
      "application/vnd.jupyter.widget-view+json": {
       "model_id": "",
       "version_major": 2,
       "version_minor": 0
      },
      "text/plain": [
       "FloatProgress(value=0.0, bar_style='info', description='Progress:', layout=Layout(height='25px', width='50%'),…"
      ]
     },
     "metadata": {},
     "output_type": "display_data"
    },
    {
     "name": "stdout",
     "output_type": "stream",
     "text": [
      "+----------+-------------------+-----------------------------+-----+-------+--------+---------+--------------------+\n",
      "|        dt| AverageTemperature|AverageTemperatureUncertainty| City|Country|Latitude|Longitude|GeographicCoordinate|\n",
      "+----------+-------------------+-----------------------------+-----+-------+--------+---------+--------------------+\n",
      "|1743-11-01|              6.068|           1.7369999999999999|Århus|Denmark|  57.05N|   10.33E|       57.05N 10.33E|\n",
      "|1744-04-01| 5.7879999999999985|           3.6239999999999997|Århus|Denmark|  57.05N|   10.33E|       57.05N 10.33E|\n",
      "|1744-05-01|             10.644|           1.2830000000000001|Århus|Denmark|  57.05N|   10.33E|       57.05N 10.33E|\n",
      "|1744-06-01| 14.050999999999998|                        1.347|Århus|Denmark|  57.05N|   10.33E|       57.05N 10.33E|\n",
      "|1744-07-01|             16.082|                        1.396|Århus|Denmark|  57.05N|   10.33E|       57.05N 10.33E|\n",
      "|1744-09-01| 12.780999999999999|                        1.454|Århus|Denmark|  57.05N|   10.33E|       57.05N 10.33E|\n",
      "|1744-10-01|               7.95|                         1.63|Århus|Denmark|  57.05N|   10.33E|       57.05N 10.33E|\n",
      "|1744-11-01|  4.638999999999999|           1.3019999999999998|Århus|Denmark|  57.05N|   10.33E|       57.05N 10.33E|\n",
      "|1744-12-01|0.12199999999999987|                        1.756|Århus|Denmark|  57.05N|   10.33E|       57.05N 10.33E|\n",
      "|1745-01-01|-1.3330000000000002|                        1.642|Århus|Denmark|  57.05N|   10.33E|       57.05N 10.33E|\n",
      "|1745-02-01|             -2.732|                        1.358|Århus|Denmark|  57.05N|   10.33E|       57.05N 10.33E|\n",
      "|1745-03-01|              0.129|                        1.088|Århus|Denmark|  57.05N|   10.33E|       57.05N 10.33E|\n",
      "|1745-04-01|              4.042|                        1.138|Århus|Denmark|  57.05N|   10.33E|       57.05N 10.33E|\n",
      "|1750-01-01|              1.699|                        1.013|Århus|Denmark|  57.05N|   10.33E|       57.05N 10.33E|\n",
      "|1750-02-01| 3.9610000000000003|           2.3609999999999998|Århus|Denmark|  57.05N|   10.33E|       57.05N 10.33E|\n",
      "|1750-03-01|              5.182|                         3.48|Århus|Denmark|  57.05N|   10.33E|       57.05N 10.33E|\n",
      "|1750-04-01|              7.197|                        0.732|Århus|Denmark|  57.05N|   10.33E|       57.05N 10.33E|\n",
      "|1750-05-01|             10.634|                        1.351|Århus|Denmark|  57.05N|   10.33E|       57.05N 10.33E|\n",
      "|1750-06-01|             14.913|                        1.181|Århus|Denmark|  57.05N|   10.33E|       57.05N 10.33E|\n",
      "|1750-07-01|             17.831|                         1.22|Århus|Denmark|  57.05N|   10.33E|       57.05N 10.33E|\n",
      "+----------+-------------------+-----------------------------+-----+-------+--------+---------+--------------------+\n",
      "only showing top 20 rows"
     ]
    }
   ],
   "source": [
    "#Removemos todas las filas que tengan algun valor nulo en cualquiera de sus columnas\n",
    "df2 = df2.na.drop()\n",
    "df2.show()"
   ]
  },
  {
   "cell_type": "code",
   "execution_count": 8,
   "metadata": {},
   "outputs": [
    {
     "data": {
      "application/vnd.jupyter.widget-view+json": {
       "model_id": "",
       "version_major": 2,
       "version_minor": 0
      },
      "text/plain": [
       "FloatProgress(value=0.0, bar_style='info', description='Progress:', layout=Layout(height='25px', width='50%'),…"
      ]
     },
     "metadata": {},
     "output_type": "display_data"
    },
    {
     "name": "stdout",
     "output_type": "stream",
     "text": [
      "364130"
     ]
    }
   ],
   "source": [
    "#Calculamos el numero de filas removidas\n",
    "df.count()-df2.count()"
   ]
  },
  {
   "cell_type": "code",
   "execution_count": 13,
   "metadata": {},
   "outputs": [
    {
     "data": {
      "application/vnd.jupyter.widget-view+json": {
       "model_id": "",
       "version_major": 2,
       "version_minor": 0
      },
      "text/plain": [
       "FloatProgress(value=0.0, bar_style='info', description='Progress:', layout=Layout(height='25px', width='50%'),…"
      ]
     },
     "metadata": {},
     "output_type": "display_data"
    }
   ],
   "source": [
    "#Insertamos la tabla \n",
    "#uri_output='s3://ojcontrerb-datasets/trusted/trabajo1/Global/GlobalLandTemperaturesByCity_Cleaned'\n",
    "uri_output='s3://ojcontrerb-datasets/Trabajo1/trusted/Global/GlobalLandTemperaturesByCity_Cleaned'\n",
    "df2.coalesce(1).write.format(\"csv\").option(\"header\",\"true\").save(uri_output)"
   ]
  },
  {
   "cell_type": "code",
   "execution_count": 14,
   "metadata": {},
   "outputs": [
    {
     "data": {
      "application/vnd.jupyter.widget-view+json": {
       "model_id": "",
       "version_major": 2,
       "version_minor": 0
      },
      "text/plain": [
       "FloatProgress(value=0.0, bar_style='info', description='Progress:', layout=Layout(height='25px', width='50%'),…"
      ]
     },
     "metadata": {},
     "output_type": "display_data"
    },
    {
     "name": "stdout",
     "output_type": "stream",
     "text": [
      "+----------+-------------------+-----------------------------+-----+-------+--------+---------+--------------------+\n",
      "|        dt| AverageTemperature|AverageTemperatureUncertainty| City|Country|Latitude|Longitude|GeographicCoordinate|\n",
      "+----------+-------------------+-----------------------------+-----+-------+--------+---------+--------------------+\n",
      "|1743-11-01|              6.068|           1.7369999999999999|Århus|Denmark|  57.05N|   10.33E|       57.05N 10.33E|\n",
      "|1744-04-01| 5.7879999999999985|           3.6239999999999997|Århus|Denmark|  57.05N|   10.33E|       57.05N 10.33E|\n",
      "|1744-05-01|             10.644|           1.2830000000000001|Århus|Denmark|  57.05N|   10.33E|       57.05N 10.33E|\n",
      "|1744-06-01| 14.050999999999998|                        1.347|Århus|Denmark|  57.05N|   10.33E|       57.05N 10.33E|\n",
      "|1744-07-01|             16.082|                        1.396|Århus|Denmark|  57.05N|   10.33E|       57.05N 10.33E|\n",
      "|1744-09-01| 12.780999999999999|                        1.454|Århus|Denmark|  57.05N|   10.33E|       57.05N 10.33E|\n",
      "|1744-10-01|               7.95|                         1.63|Århus|Denmark|  57.05N|   10.33E|       57.05N 10.33E|\n",
      "|1744-11-01|  4.638999999999999|           1.3019999999999998|Århus|Denmark|  57.05N|   10.33E|       57.05N 10.33E|\n",
      "|1744-12-01|0.12199999999999987|                        1.756|Århus|Denmark|  57.05N|   10.33E|       57.05N 10.33E|\n",
      "|1745-01-01|-1.3330000000000002|                        1.642|Århus|Denmark|  57.05N|   10.33E|       57.05N 10.33E|\n",
      "|1745-02-01|             -2.732|                        1.358|Århus|Denmark|  57.05N|   10.33E|       57.05N 10.33E|\n",
      "|1745-03-01|              0.129|                        1.088|Århus|Denmark|  57.05N|   10.33E|       57.05N 10.33E|\n",
      "|1745-04-01|              4.042|                        1.138|Århus|Denmark|  57.05N|   10.33E|       57.05N 10.33E|\n",
      "|1750-01-01|              1.699|                        1.013|Århus|Denmark|  57.05N|   10.33E|       57.05N 10.33E|\n",
      "|1750-02-01| 3.9610000000000003|           2.3609999999999998|Århus|Denmark|  57.05N|   10.33E|       57.05N 10.33E|\n",
      "|1750-03-01|              5.182|                         3.48|Århus|Denmark|  57.05N|   10.33E|       57.05N 10.33E|\n",
      "|1750-04-01|              7.197|                        0.732|Århus|Denmark|  57.05N|   10.33E|       57.05N 10.33E|\n",
      "|1750-05-01|             10.634|                        1.351|Århus|Denmark|  57.05N|   10.33E|       57.05N 10.33E|\n",
      "|1750-06-01|             14.913|                        1.181|Århus|Denmark|  57.05N|   10.33E|       57.05N 10.33E|\n",
      "|1750-07-01|             17.831|                         1.22|Århus|Denmark|  57.05N|   10.33E|       57.05N 10.33E|\n",
      "+----------+-------------------+-----------------------------+-----+-------+--------+---------+--------------------+\n",
      "only showing top 20 rows"
     ]
    }
   ],
   "source": [
    "#Comprobamos leyendo el archivo en la zona trusted\n",
    "#df_cleaned=spark.read.csv('s3://ojcontrerb-datasets/trusted/trabajo1/Global/GlobalLandTemperaturesByCity_Cleaned/part-00000-05431328-0e33-45f6-9504-d4a8e0c82bc9-c000.csv',inferSchema=True,header=True)\n",
    "df_cleaned=spark.read.csv('s3://ojcontrerb-datasets/Trabajo1/trusted/Global/GlobalLandTemperaturesByCity_Cleaned/part-00000-ffc58119-0f6b-4340-8f8c-fb90c3b30a14-c000.csv',inferSchema=True,header=True)\n",
    "df_cleaned.show()"
   ]
  },
  {
   "cell_type": "code",
   "execution_count": 15,
   "metadata": {},
   "outputs": [
    {
     "data": {
      "application/vnd.jupyter.widget-view+json": {
       "model_id": "",
       "version_major": 2,
       "version_minor": 0
      },
      "text/plain": [
       "FloatProgress(value=0.0, bar_style='info', description='Progress:', layout=Layout(height='25px', width='50%'),…"
      ]
     },
     "metadata": {},
     "output_type": "display_data"
    }
   ],
   "source": [
    "#Realizamos una transformación que nos permitirá realizar un análisis exploratorio de datos\n",
    "df_refined = df_cleaned.groupBy(\"Country\",\"City\").mean(\"AverageTemperature\")"
   ]
  },
  {
   "cell_type": "code",
   "execution_count": 16,
   "metadata": {},
   "outputs": [
    {
     "data": {
      "application/vnd.jupyter.widget-view+json": {
       "model_id": "",
       "version_major": 2,
       "version_minor": 0
      },
      "text/plain": [
       "FloatProgress(value=0.0, bar_style='info', description='Progress:', layout=Layout(height='25px', width='50%'),…"
      ]
     },
     "metadata": {},
     "output_type": "display_data"
    },
    {
     "name": "stdout",
     "output_type": "stream",
     "text": [
      "+--------------------+----------+-----------------------+\n",
      "|             Country|      City|avg(AverageTemperature)|\n",
      "+--------------------+----------+-----------------------+\n",
      "|           Argentina|   Cordoba|     16.913611578947396|\n",
      "|            Pakistan|   Chiniot|     24.138396543446955|\n",
      "|          Madagascar| Antsirabe|     19.815439024390216|\n",
      "|           Indonesia|  Banjaran|     24.768451303885037|\n",
      "|       Côte D'Ivoire|   Abidjan|     26.163737197524014|\n",
      "|             Nigeria|   Amaigbo|      26.61282420749278|\n",
      "|Bosnia And Herzeg...|Banja Luka|      9.081287428932413|\n",
      "|               India|  Ambattur|     28.417858452950554|\n",
      "|       United States|      Cary|      14.41886117345303|\n",
      "|               Chile|     Arica|     19.173233684210505|\n",
      "|          Kazakhstan|    Atyrau|       8.06841197046249|\n",
      "|               Haiti| Carrefour|     26.468403139013443|\n",
      "|               India|  Azamgarh|      25.11258609668402|\n",
      "|           Indonesia|   Cilegon|     26.508209686003163|\n",
      "|           Indonesia|   Ciparay|     24.768451303885037|\n",
      "|               Italy|   Bergamo|      9.330125078964002|\n",
      "|               Japan|     Abiko|       12.5559975247525|\n",
      "|            Pakistan|  Burewala|     25.537814690350466|\n",
      "|           Australia|    Cairns|      23.06483860414398|\n",
      "|           Indonesia|    Cimahi|     24.768451303885037|\n",
      "+--------------------+----------+-----------------------+\n",
      "only showing top 20 rows"
     ]
    }
   ],
   "source": [
    "#Mostramos el nuevo dataframe con la información transformada\n",
    "df_refined.show()"
   ]
  },
  {
   "cell_type": "code",
   "execution_count": 17,
   "metadata": {},
   "outputs": [
    {
     "data": {
      "application/vnd.jupyter.widget-view+json": {
       "model_id": "",
       "version_major": 2,
       "version_minor": 0
      },
      "text/plain": [
       "FloatProgress(value=0.0, bar_style='info', description='Progress:', layout=Layout(height='25px', width='50%'),…"
      ]
     },
     "metadata": {},
     "output_type": "display_data"
    }
   ],
   "source": [
    "#Escribimos el nuevo dataframe en la zona refined del datalake\n",
    "#uri_output='s3://ojcontrerb-datasets/refined/trabajo1/Global/GlobalLandTemperaturesByCity_Refined_GroupBy'\n",
    "uri_output='s3://ojcontrerb-datasets/Trabajo1/refined/Global/GlobalLandTemperaturesByCity_Refined_GroupBy'\n",
    "df_refined.coalesce(1).write.format(\"csv\").option(\"header\",\"true\").save(uri_output)"
   ]
  },
  {
   "cell_type": "code",
   "execution_count": 18,
   "metadata": {},
   "outputs": [
    {
     "data": {
      "application/vnd.jupyter.widget-view+json": {
       "model_id": "",
       "version_major": 2,
       "version_minor": 0
      },
      "text/plain": [
       "FloatProgress(value=0.0, bar_style='info', description='Progress:', layout=Layout(height='25px', width='50%'),…"
      ]
     },
     "metadata": {},
     "output_type": "display_data"
    },
    {
     "name": "stdout",
     "output_type": "stream",
     "text": [
      "+--------------------+----------+-----------------------+\n",
      "|             Country|      City|avg(AverageTemperature)|\n",
      "+--------------------+----------+-----------------------+\n",
      "|           Argentina|   Cordoba|     16.913611578947396|\n",
      "|            Pakistan|   Chiniot|     24.138396543446955|\n",
      "|          Madagascar| Antsirabe|     19.815439024390216|\n",
      "|           Indonesia|  Banjaran|     24.768451303885037|\n",
      "|       Côte D'Ivoire|   Abidjan|     26.163737197524014|\n",
      "|             Nigeria|   Amaigbo|      26.61282420749278|\n",
      "|Bosnia And Herzeg...|Banja Luka|      9.081287428932413|\n",
      "|               India|  Ambattur|     28.417858452950554|\n",
      "|       United States|      Cary|      14.41886117345303|\n",
      "|               Chile|     Arica|     19.173233684210505|\n",
      "|          Kazakhstan|    Atyrau|       8.06841197046249|\n",
      "|               Haiti| Carrefour|     26.468403139013443|\n",
      "|               India|  Azamgarh|      25.11258609668402|\n",
      "|           Indonesia|   Cilegon|     26.508209686003163|\n",
      "|           Indonesia|   Ciparay|     24.768451303885037|\n",
      "|               Italy|   Bergamo|      9.330125078964002|\n",
      "|               Japan|     Abiko|       12.5559975247525|\n",
      "|            Pakistan|  Burewala|     25.537814690350466|\n",
      "|           Australia|    Cairns|      23.06483860414398|\n",
      "|           Indonesia|    Cimahi|     24.768451303885037|\n",
      "+--------------------+----------+-----------------------+\n",
      "only showing top 20 rows"
     ]
    }
   ],
   "source": [
    "#Comprobamos leyendo el archivo en la zona refined\n",
    "df_analysis = spark.read.csv('s3://ojcontrerb-datasets/Trabajo1/refined/Global/GlobalLandTemperaturesByCity_Refined_GroupBy/part-00000-e7fefe16-d827-4e40-bf53-bc8e663b2681-c000.csv',inferSchema=True,header=True)\n",
    "df_analysis.show()"
   ]
  },
  {
   "cell_type": "code",
   "execution_count": 19,
   "metadata": {},
   "outputs": [
    {
     "data": {
      "application/vnd.jupyter.widget-view+json": {
       "model_id": "",
       "version_major": 2,
       "version_minor": 0
      },
      "text/plain": [
       "FloatProgress(value=0.0, bar_style='info', description='Progress:', layout=Layout(height='25px', width='50%'),…"
      ]
     },
     "metadata": {},
     "output_type": "display_data"
    },
    {
     "name": "stdout",
     "output_type": "stream",
     "text": [
      "+---------+------------+-----------------------+\n",
      "|  Country|        City|avg(AverageTemperature)|\n",
      "+---------+------------+-----------------------+\n",
      "| Djibouti|      Jibuti|     29.152790108564506|\n",
      "|    Sudan|    Khartoum|     29.081291289592794|\n",
      "|    Sudan|  Umm Durman|     29.081291289592794|\n",
      "|    Niger|      Niamey|     29.062560090702984|\n",
      "|    Sudan|     Kassala|     28.938775931232133|\n",
      "|     Mali|       Mopti|      28.78444858817257|\n",
      "|    Sudan|       Rabak|     28.598225729600962|\n",
      "|    Sudan|       Kusti|     28.598225729600962|\n",
      "|    India|       Avadi|     28.417858452950554|\n",
      "|    India|    Ambattur|     28.417858452950554|\n",
      "|    India|      Madras|     28.417858452950554|\n",
      "|    India|    Tambaram|     28.417858452950554|\n",
      "|    India|  Pallavaram|     28.417858452950554|\n",
      "|    India|Tiruvottiyur|     28.417858452950554|\n",
      "|    India| Kanchipuram|     28.417858452950554|\n",
      "|    India|    Tirupati|     28.417858452950554|\n",
      "|    India|     Alandur|     28.417858452950554|\n",
      "|  Nigeria|      Sokoto|     28.280790819291127|\n",
      "|Venezuela|  Punto Fijo|      28.25923969319267|\n",
      "|    India|      Ongole|     28.230023923444993|\n",
      "+---------+------------+-----------------------+\n",
      "only showing top 20 rows"
     ]
    }
   ],
   "source": [
    "df_analysis.orderBy(df_analysis[\"avg(AverageTemperature)\"].desc()).show()"
   ]
  },
  {
   "cell_type": "code",
   "execution_count": 20,
   "metadata": {},
   "outputs": [
    {
     "data": {
      "application/vnd.jupyter.widget-view+json": {
       "model_id": "",
       "version_major": 2,
       "version_minor": 0
      },
      "text/plain": [
       "FloatProgress(value=0.0, bar_style='info', description='Progress:', layout=Layout(height='25px', width='50%'),…"
      ]
     },
     "metadata": {},
     "output_type": "display_data"
    },
    {
     "name": "stdout",
     "output_type": "stream",
     "text": [
      "+-------------+-------------------+-----------------------+\n",
      "|      Country|               City|avg(AverageTemperature)|\n",
      "+-------------+-------------------+-----------------------+\n",
      "|       Russia|            Norilsk|     -11.85474967630557|\n",
      "|       Russia|              Kyzyl|    -6.2224518774277255|\n",
      "|       Russia|              Chita|     -4.360299956840743|\n",
      "|       Russia|         Ust Ilimsk|    -3.9967997410444496|\n",
      "|       Russia|       Nefteyugansk|    -3.5382811078958243|\n",
      "|       Russia|             Surgut|    -3.5382811078958243|\n",
      "|     Mongolia|        Ulaanbaatar|    -3.3654853195164023|\n",
      "|       Russia|           Ulan Ude|     -3.179915407854988|\n",
      "|       Russia|             Bratsk|    -2.8179848942598165|\n",
      "|        China|             Hailar|    -2.5129801467414716|\n",
      "|        China|            Yakeshi|    -2.5129801467414716|\n",
      "|       Russia|Komsomolsk Na Amure|    -2.3709624773960196|\n",
      "|       Russia|     Nizhnevartovsk|     -2.337914501257337|\n",
      "|United States|          Anchorage|    -2.3016456107756667|\n",
      "|       Russia|            Angarsk|    -1.8229080707811787|\n",
      "|       Russia|            Irkutsk|    -1.8229080707811787|\n",
      "|       Russia|              Kansk|    -1.7584113077255037|\n",
      "|       Russia|           Murmansk|    -1.7339109286165482|\n",
      "|       Russia|              Ukhta|    -1.6462818728250586|\n",
      "|       Russia|        Krasnoyarsk|    -1.6017906776003474|\n",
      "+-------------+-------------------+-----------------------+\n",
      "only showing top 20 rows"
     ]
    }
   ],
   "source": [
    "df_analysis.orderBy(df_analysis[\"avg(AverageTemperature)\"].asc()).show()"
   ]
  },
  {
   "cell_type": "code",
   "execution_count": null,
   "metadata": {},
   "outputs": [],
   "source": []
  }
 ],
 "metadata": {
  "kernelspec": {
   "display_name": "PySpark",
   "language": "",
   "name": "pysparkkernel"
  },
  "language_info": {
   "codemirror_mode": {
    "name": "python",
    "version": 3
   },
   "mimetype": "text/x-python",
   "name": "pyspark",
   "pygments_lexer": "python3"
  }
 },
 "nbformat": 4,
 "nbformat_minor": 4
}
